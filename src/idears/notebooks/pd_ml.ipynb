{
 "cells": [
  {
   "cell_type": "code",
   "execution_count": 3,
   "metadata": {},
   "outputs": [],
   "source": [
    "%load_ext autoreload\n",
    "%autoreload 2\n",
    "import sys\n",
    "import pickle\n",
    "import os \n",
    "\n",
    "sys.path.append(\"../\")\n",
    "\n",
    "# import key modules\n",
    "#from preprocessing.data_proc import *\n",
    "from preprocessing.idears_backend import *\n",
    "from results.charts import *\n",
    "#from models.ml import *\n",
    "#import statsmodels\n",
    "\n",
    "ib=idears()\n",
    "ch=charts()"
   ]
  },
  {
   "cell_type": "code",
   "execution_count": 12,
   "metadata": {},
   "outputs": [],
   "source": [
    "def run_models(fields,ages,gends,gend_dict_extcols,dis_exc_vars_dict,iters):\n",
    "\t\t# runs model steps \n",
    "\t\tib=idears()\n",
    "\t\tch=charts()\n",
    "\t\tdf_dict=ib.create_train_test(fields_include_use=fields,ages=ages,gends=gends,diseases=diseases)\n",
    "\t\tdf_auc,feats_full=ib.get_aucs_all(df_dict,gend_dict_extcols=gend_dict_extcols,\n",
    "\t\tdis_exc_vars_dict=dis_exc_vars_dict,ages=ages,gends=gends,diseases=diseases,iters=iters)\n",
    "\t\n",
    "\t\tfig,df_bar=ch.make_econ_bar(df=feats_full,sort_var='mean_shap',err_var=None,recs=None,title=Expname,\n",
    "\t\t\tsub_title=\"Mean SHAP Score\",footer=\"\"\"Source: UK Biobank\"\"\",outfile='chart.png',labels_show=False,\n",
    "\t\t\ttick_vals_use=[0, 0.05, 0.1, 0.15, 0.2],shrink=True,figsize=(3,16),out=True)\n",
    "\n",
    "    #return fig,df_bar\n",
    "        \n",
    "\t"
   ]
  },
  {
   "cell_type": "code",
   "execution_count": 14,
   "metadata": {},
   "outputs": [
    {
     "ename": "TypeError",
     "evalue": "list indices must be integers or slices, not str",
     "output_type": "error",
     "traceback": [
      "\u001b[0;31m---------------------------------------------------------------------------\u001b[0m",
      "\u001b[0;31mTypeError\u001b[0m                                 Traceback (most recent call last)",
      "Cell \u001b[0;32mIn[14], line 1\u001b[0m\n\u001b[0;32m----> 1\u001b[0m df_dict\u001b[39m=\u001b[39mib\u001b[39m.\u001b[39;49mcreate_train_test(fields_include_use\u001b[39m=\u001b[39;49m\u001b[39m'\u001b[39;49m\u001b[39mAll\u001b[39;49m\u001b[39m'\u001b[39;49m,ages\u001b[39m=\u001b[39;49m\u001b[39mNone\u001b[39;49;00m,gends\u001b[39m=\u001b[39;49m\u001b[39mNone\u001b[39;49;00m,diseases\u001b[39m=\u001b[39;49m[\u001b[39m'\u001b[39;49m\u001b[39mPD\u001b[39;49m\u001b[39m'\u001b[39;49m])\n",
      "File \u001b[0;32m~/Documents/github/ukb/codebase1/src/idears/notebooks/../preprocessing/idears_backend.py:183\u001b[0m, in \u001b[0;36midears.create_train_test\u001b[0;34m(self, fields_include_use, ages, gends, diseases)\u001b[0m\n\u001b[1;32m    176\u001b[0m \tdiseases\u001b[39m=\u001b[39m\u001b[39mself\u001b[39m\u001b[39m.\u001b[39mdis_icd10_dict\n\u001b[1;32m    179\u001b[0m \u001b[39mfor\u001b[39;00m dis \u001b[39min\u001b[39;00m diseases:\n\u001b[1;32m    180\u001b[0m \t\u001b[39m#loop through the disease name to ICD10 list mapping\u001b[39;00m\n\u001b[1;32m    181\u001b[0m \t\u001b[39m#create a model dataset for each disease \u001b[39;00m\n\u001b[0;32m--> 183\u001b[0m \tdf2\u001b[39m=\u001b[39mdp\u001b[39m.\u001b[39mcreate_model_data(depvar\u001b[39m=\u001b[39mdis,icd10s\u001b[39m=\u001b[39mdiseases[dis],infile\u001b[39m=\u001b[39m\u001b[39m\"\u001b[39m\u001b[39mukb_df_processed2022-11-15.parquet\u001b[39m\u001b[39m\"\u001b[39m)\n\u001b[1;32m    184\u001b[0m \t\u001b[39mprint\u001b[39m(df2[dis]\u001b[39m.\u001b[39msum())\n\u001b[1;32m    186\u001b[0m \t\u001b[39mfor\u001b[39;00m agex \u001b[39min\u001b[39;00m ages:\n\u001b[1;32m    187\u001b[0m \t\t\u001b[39m#loop through the age ranges specified\u001b[39;00m\n",
      "\u001b[0;31mTypeError\u001b[0m: list indices must be integers or slices, not str"
     ]
    }
   ],
   "source": [
    "df_dict=ib.create_train_test(fields_include_use='All',ages=None,gends=None,diseases=['PD'])"
   ]
  },
  {
   "cell_type": "code",
   "execution_count": null,
   "metadata": {},
   "outputs": [],
   "source": []
  },
  {
   "cell_type": "code",
   "execution_count": null,
   "metadata": {},
   "outputs": [],
   "source": []
  },
  {
   "cell_type": "code",
   "execution_count": null,
   "metadata": {},
   "outputs": [],
   "source": []
  }
 ],
 "metadata": {
  "kernelspec": {
   "display_name": "env_full",
   "language": "python",
   "name": "python3"
  },
  "language_info": {
   "codemirror_mode": {
    "name": "ipython",
    "version": 3
   },
   "file_extension": ".py",
   "mimetype": "text/x-python",
   "name": "python",
   "nbconvert_exporter": "python",
   "pygments_lexer": "ipython3",
   "version": "3.9.15"
  },
  "orig_nbformat": 4
 },
 "nbformat": 4,
 "nbformat_minor": 2
}
