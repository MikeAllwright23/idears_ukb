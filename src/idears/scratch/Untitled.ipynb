{
 "cells": [
  {
   "cell_type": "code",
   "execution_count": 10,
   "id": "a6a74851-ff53-4382-8716-8a64f4aac617",
   "metadata": {},
   "outputs": [
    {
     "name": "stdout",
     "output_type": "stream",
     "text": [
      "The autoreload extension is already loaded. To reload it, use:\n",
      "  %reload_ext autoreload\n"
     ]
    }
   ],
   "source": [
    "%load_ext autoreload\n",
    "%autoreload 2\n",
    "import sys\n",
    "import os\n",
    "sys.path.append('../')\n",
    "from preprocessing.data_proc import *"
   ]
  },
  {
   "cell_type": "code",
   "execution_count": 11,
   "id": "fdbfcbde-b9bd-4567-8a6e-8f4690073543",
   "metadata": {},
   "outputs": [],
   "source": [
    "dp=data_proc()"
   ]
  },
  {
   "cell_type": "code",
   "execution_count": 13,
   "id": "352c1176-c439-450c-bea6-79f2276af012",
   "metadata": {},
   "outputs": [],
   "source": [
    "df1=dp.create_model_data(depvar='AD',icd10s=['G30'],infile='ukb_df_processed.parquet',\\\n",
    "nonull_var='date_of_all_cause_dementia_report_f42018_0_0')"
   ]
  },
  {
   "cell_type": "code",
   "execution_count": 15,
   "id": "8f5991ee-584b-4d71-bd9d-22f0a8d2dcfc",
   "metadata": {},
   "outputs": [
    {
     "data": {
      "text/plain": [
       "2969"
      ]
     },
     "execution_count": 15,
     "metadata": {},
     "output_type": "execute_result"
    }
   ],
   "source": [
    "df1['AD'].sum()"
   ]
  },
  {
   "cell_type": "code",
   "execution_count": 8,
   "id": "985f0ab9-d434-41e1-8e33-50cf04cffa11",
   "metadata": {},
   "outputs": [
    {
     "data": {
      "text/plain": [
       "['.DS_Store', 'idears_backend.py', 'data_proc.py', 'data_proc']"
      ]
     },
     "execution_count": 8,
     "metadata": {},
     "output_type": "execute_result"
    }
   ],
   "source": [
    "os.listdir('../preprocessing/')"
   ]
  },
  {
   "cell_type": "code",
   "execution_count": null,
   "id": "d5fc2c19-9ed7-40fa-852b-8117f6ee2151",
   "metadata": {},
   "outputs": [],
   "source": []
  }
 ],
 "metadata": {
  "kernelspec": {
   "display_name": "Python 3 (ipykernel)",
   "language": "python",
   "name": "python3"
  },
  "language_info": {
   "codemirror_mode": {
    "name": "ipython",
    "version": 3
   },
   "file_extension": ".py",
   "mimetype": "text/x-python",
   "name": "python",
   "nbconvert_exporter": "python",
   "pygments_lexer": "ipython3",
   "version": "3.9.15"
  }
 },
 "nbformat": 4,
 "nbformat_minor": 5
}
