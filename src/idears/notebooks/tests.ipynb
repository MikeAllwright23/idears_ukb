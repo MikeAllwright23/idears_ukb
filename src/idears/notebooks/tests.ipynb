{
 "cells": [
  {
   "cell_type": "code",
   "execution_count": 14,
   "metadata": {},
   "outputs": [],
   "source": [
    "import pandas as pd\n",
    "import seaborn as sns\n",
    "import numpy as np"
   ]
  },
  {
   "cell_type": "code",
   "execution_count": 2,
   "metadata": {},
   "outputs": [],
   "source": [
    "df=pd.read_csv('/Users/michaelallwright/Documents/github/ukb/codebase1/data/df_auc.csv')"
   ]
  },
  {
   "cell_type": "code",
   "execution_count": 18,
   "metadata": {},
   "outputs": [
    {
     "data": {
      "application/vnd.plotly.v1+json": {
       "config": {
        "plotlyServerURL": "https://plot.ly"
       },
       "data": [
        {
         "alignmentgroup": "True",
         "hovertemplate": "auc=%{y}<extra></extra>",
         "legendgroup": "",
         "marker": {
          "color": "#636efa"
         },
         "name": "",
         "notched": false,
         "offsetgroup": "",
         "orientation": "v",
         "showlegend": false,
         "type": "box",
         "x0": " ",
         "xaxis": "x",
         "y": [
          0.4674556213017751,
          0.5251479289940828,
          0.375,
          0.478515625,
          0.5451843043995244,
          0.5151605231866826,
          0.34375,
          0.6440972222222222,
          0.4537037037037037,
          0.6049382716049382,
          0.5072222222222222,
          0.4330555555555555,
          0.5444,
          0.6112000000000001,
          0.4249107330392774,
          0.5030455786599454,
          0.4957627118644067,
          0.4979172651536914,
          0.5935727788279772,
          0.4669187145557656,
          0.5943877551020408,
          0.5012755102040817,
          0.4922337278106509,
          0.4726331360946746,
          0.5215419501133787,
          0.4693877551020408,
          0.53515625,
          0.4384765625,
          0.5713777144891421,
          0.7048771804912781,
          0.5351239669421488,
          0.4524793388429752,
          0.4661111111111111,
          0.5083333333333333,
          0.4997226331360946,
          0.5180288461538461,
          0.4127423822714681,
          0.5983379501385041,
          0.5141776937618148,
          0.5935727788279773,
          0.4886621315192743,
          0.4268707482993197,
          0.7162629757785467,
          0.3667820069204152,
          0.4911242603550295,
          0.6301775147928994,
          0.4954029204975662,
          0.5792320173066522,
          0.5408950617283951,
          0.5794753086419754,
          0.3956684714702208,
          0.4956268221574343,
          0.500484429065744,
          0.5198615916955017,
          0.382716049382716,
          0.4074074074074074,
          0.66,
          0.6000000000000001,
          0.645,
          0.4075,
          0.5555555555555556,
          0.5555555555555555,
          0.7633136094674556,
          0.3964497041420118,
          0.5238095238095238,
          0.3922902494331065,
          0.6111111111111112,
          0.3672839506172839,
          0.5614366729678639,
          0.5085066162570889,
          0.5630577037477692,
          0.4211778703152885,
          0.5619834710743801,
          0.4545454545454545,
          0.4540816326530612,
          0.5918367346938775,
          0.4363905325443787,
          0.6568047337278107,
          0.5363321799307958,
          0.629757785467128,
          0.6088888888888889,
          0.7333333333333333,
          0.6201171875,
          0.6318359375,
          0.5778061224489797,
          0.5982142857142857,
          0.6266349583828775,
          0.4863258026159335,
          0.5949522930132348,
          0.6522006771314252,
          0.5900000000000001,
          0.6600000000000001,
          0.5857988165680473,
          0.514792899408284,
          0.513888888888889,
          0.5711805555555556,
          0.51171875,
          0.62890625,
          0.4693877551020408,
          0.5816326530612246,
          0.5511111111111112,
          0.5833333333333333,
          0.5340236686390533,
          0.514792899408284,
          0.7297668038408778,
          0.5061728395061729,
          0.6318974724101103,
          0.6632253470986116,
          0.5,
          0.6666666666666667,
          0.5,
          0.4444444444444445,
          0.5570934256055363,
          0.5536332179930796,
          0.6275510204081632,
          0.6785714285714286,
          0.7355371900826446,
          0.4876033057851239,
          0.5711999999999999,
          0.6416,
          0.6487603305785125,
          0.737603305785124,
          0.6575,
          0.615,
          0.6403461330448891,
          0.7641968631692806,
          0.5,
          0.5,
          0.5,
          0.5,
          0.5599999999999999,
          0.66,
          0.5,
          0.5,
          0.5,
          0.5,
          0.4375,
          0.4375,
          0.5,
          0.5,
          0.4132231404958677,
          0.628099173553719,
          0.3395061728395061,
          0.3672839506172839,
          0.7742607246980424,
          0.7181382757184507,
          0.7773152965660768,
          0.641519250780437,
          0.752109375,
          0.7425,
          0.7114583333333332,
          0.7321527777777778,
          0.7912636837070889,
          0.7376979487724519,
          0.7881670878549131,
          0.800611607806494,
          0.7474749600202004,
          0.7432665600538676,
          0.7125509275740676,
          0.6942367786084411,
          0.7811424832370593,
          0.7687452947674296,
          0.7708333333333334,
          0.6880425347222222,
          0.7088888888888888,
          0.7261111111111112,
          0.7517258382642997,
          0.75267094017094,
          0.7263717322608446,
          0.7635736857224936,
          0.7139058171745152,
          0.7489196675900276,
          0.742991278034888,
          0.7052999288002848,
          0.747030308323871,
          0.7382740850729322,
          0.7650780437044745,
          0.7599167533818938,
          0.7972033107864954,
          0.7697064504520383,
          0.6896266540642723,
          0.7403119092627599,
          0.7248086734693878,
          0.7346938775510203,
          0.7616417092768444,
          0.7116051862673485,
          0.7151754902785961,
          0.6856325225149398,
          0.7230809882415115,
          0.718192627824019,
          0.7589806330695543,
          0.7624167013744273,
          0.7614167966139451,
          0.7595604069206208,
          0.7058046848256639,
          0.7318695290723262,
          0.7245639534883721,
          0.7624391563007031,
          0.5,
          0.5,
          0.5,
          0.5,
          0.7265625,
          0.7890625,
          0.7911111111111111,
          0.76,
          0.8265306122448979,
          0.7908163265306123,
          0.807372175980975,
          0.7800237812128419,
          0.8128544423440454,
          0.6332703213610585,
          0.8822314049586777,
          0.8161157024793388,
          0.7204938271604937,
          0.7293827160493828,
          0.7928392125776194,
          0.7351037125115603,
          0.6680414106556688,
          0.6499452908004377,
          0.7634477720964208,
          0.7630679327976626,
          0.7079919100936177,
          0.6798023394007632,
          0.672153541424766,
          0.6401885117136807,
          0.7028979238754325,
          0.7218512110726643,
          0.7613845486111112,
          0.7527777777777778,
          0.6542344045368621,
          0.657258979206049,
          0.7708411029557627,
          0.7646716921245784,
          0.7161349906887312,
          0.7302760072067708,
          0.6552380952380952,
          0.6421768707482993,
          0.7408122462684289,
          0.7707106010195048,
          0.7236368312757201,
          0.7177640603566529,
          0.6620224073542086,
          0.6016230968112612,
          0.7165100935852845,
          0.707904550181075,
          0.7575459596207912,
          0.7601428513961087,
          0.6413159323533552,
          0.5682398600414246,
          0.7435076463205179,
          0.7415568437045844,
          0.7594754993785122,
          0.7768946622082947,
          0.5428844723137423,
          0.5410776915718993,
          0.7691503684807256,
          0.7890359268707483,
          0.658308982939014,
          0.7057215571684419,
          0.6193554022185344,
          0.6237225958599005,
          0.7409792893670446,
          0.7458379691535078,
          0.7371039010225982,
          0.7306249210958212,
          0.6487648981161092,
          0.6373269896193772,
          0.7554279310827847,
          0.754096025413045,
          0.7511111111111111,
          0.7466666666666667,
          0.5390625,
          0.40625,
          0.717391304347826,
          0.8308128544423442,
          0.5406427221172023,
          0.5765595463137997,
          0.4376731301939058,
          0.6343490304709142,
          0.4807256235827664,
          0.5856009070294784,
          0.6571733713065148,
          0.6614453542185831,
          0.6245674740484429,
          0.578719723183391,
          0.6539833531510107,
          0.6949398863786498,
          0.6349099704380544,
          0.5882827196990056,
          0.6182726326742976,
          0.5896774193548387,
          0.6127800440511411,
          0.6063678661262365,
          0.6072415264706543,
          0.6094876575099392,
          0.5748865820838139,
          0.6072279892349097,
          0.6245740389397483,
          0.6623901711212217,
          0.6101957813669525,
          0.6035044053062071,
          0.6215883402736466,
          0.6023616894705532,
          0.6438522667371918,
          0.6424647087486799,
          0.5893281807372175,
          0.5967598097502973,
          0.6014426588750913,
          0.5748265157048941,
          0.6218031198947505,
          0.6300510344229352,
          0.5871636840672261,
          0.6192916016930274,
          0.6387458893614091,
          0.6477505552590348,
          0.6120626113306443,
          0.5763958559407056,
          0.6058123698125301,
          0.6565854830956577,
          0.6264959919641029,
          0.6380740280595555,
          0.6439655952919873,
          0.6373180423519943,
          0.5977,
          0.5510999999999999,
          0.59936,
          0.552896,
          0.5930723852040817,
          0.5863759566326531,
          0.6475335743801653,
          0.5824186466942148,
          0.5959798284475445,
          0.6215477424827976,
          0.6113045146788739,
          0.6132918505523424,
          0.6231752783028776,
          0.6000183784919135,
          0.6279150427615665,
          0.6296218544920181,
          0.6321281914186224,
          0.6652806765658206,
          0.5038265306122449,
          0.6492346938775511,
          0.5673898750821827,
          0.6699539776462854,
          0.5573624415237247,
          0.5823123190020049,
          0.5137051039697542,
          0.6417769376181475,
          0.6748060902039643,
          0.5834530307382936,
          0.5968253968253968,
          0.6625850340136055,
          0.6050036523009497,
          0.5071219868517165,
          0.5788213244481466,
          0.6001665972511453,
          0.6106679286100595,
          0.5915697674418605,
          0.662072206124207,
          0.6397525256480538,
          0.6558383766464934,
          0.6080455678177287,
          0.6900206611570249,
          0.6908677685950414,
          0.6497902398795223,
          0.6594714762092582,
          0.663984375,
          0.693515625,
          0.6956298104349615,
          0.7211794742305642,
          0.6903188775510205,
          0.6899872448979592,
          0.7353581321725366,
          0.7289841144213918,
          0.7068389485971903,
          0.7182808034456387,
          0.6058205767176931,
          0.6335884656461374,
          0.6441179471482501,
          0.6506478930721354,
          0.641648600245075,
          0.6615845037232538,
          0.673861008560185,
          0.6146699663272344,
          0.7434402332361515,
          0.702253690591883,
          0.6870238919667591,
          0.6982881752077562,
          0.6319594037791496,
          0.6615680434876896,
          0.6946262145548285,
          0.6807786370546631,
          0.6863336176716934,
          0.6826320725950572,
          0.6004774305555556,
          0.6871744791666667,
          0.6548096885813149,
          0.6726643598615918,
          0.6740941973688227,
          0.6949726809315954,
          0.6740902552080559,
          0.6158559326549097,
          0.6634240000000001,
          0.6753279999999999,
          0.6555270671872268,
          0.6752520249402716,
          0.6643887343660778,
          0.6949658310154913,
          0.7133786848072562,
          0.6366213151927438,
          0.6867652828804224,
          0.6790760717252062,
          0.5879017013232515,
          0.6030245746691871,
          0.6076817558299039,
          0.46639231824417,
          0.6504,
          0.6792,
          0.7173119065010957,
          0.7268078889700511,
          0.7577479338842976,
          0.8703512396694215,
          0.7780826093583295,
          0.6919676878524615,
          0.7452777777777777,
          0.7252777777777778,
          0.738543939694505,
          0.7796072207895258,
          0.7079424275974593,
          0.756074820814638,
          0.6763386064484964,
          0.6600072455017509,
          0.6072129809858138,
          0.6415779139644197,
          0.7172662232021156,
          0.6957227027468421,
          0.6563313609467457,
          0.6745081360946746,
          0.6295097272228249,
          0.6373286768297164,
          0.6533640000000001,
          0.702375,
          0.6769809335963182,
          0.673263379355687,
          0.6429917994155905,
          0.6540879206334245,
          0.6812715729602111,
          0.6848768122368026,
          0.7141463566502871,
          0.694081080940842,
          0.6179502958579881,
          0.5775905325443786,
          0.6849781393053918,
          0.6930062909459718,
          0.6466508604699923,
          0.6799608070837568,
          0.6304986623393711,
          0.6654776349965157,
          0.6810360110803324,
          0.6666814404432133,
          0.6715578796062276,
          0.6880413773151444,
          0.6452141606581762,
          0.6638889302981967,
          0.705782498172099,
          0.7087864507950858,
          0.6881896921794903,
          0.6771798691952222,
          0.5725255653085942,
          0.6060632546292251,
          0.6836159169550173,
          0.6823659169550174,
          0.6139162900570044,
          0.6758654515061884,
          0.6132922727182613,
          0.6315118192451808,
          0.6499293170943887,
          0.6442060048991552,
          0.6774120639698119,
          0.6869777745333663,
          0.6279008999433107,
          0.6386585884353742,
          0.6854349558969932,
          0.7048501124330796,
          0.618247922437673,
          0.6040512465373962,
          0.6298476454293629,
          0.5649238227146814,
          0.6411011080332409,
          0.6364265927977839,
          0.6668083749601446,
          0.6458709745987884,
          0.6570600673506147,
          0.6518129845720103,
          0.6588435374149659,
          0.6618367346938776,
          0.6354786371011358,
          0.6360194699837749,
          0.6685318559556787,
          0.6527977839335181,
          0.6598928604132963,
          0.714164708036995
         ],
         "y0": " ",
         "yaxis": "y"
        }
       ],
       "layout": {
        "boxmode": "group",
        "legend": {
         "tracegroupgap": 0
        },
        "margin": {
         "t": 60
        },
        "template": {
         "data": {
          "bar": [
           {
            "error_x": {
             "color": "#2a3f5f"
            },
            "error_y": {
             "color": "#2a3f5f"
            },
            "marker": {
             "line": {
              "color": "#E5ECF6",
              "width": 0.5
             },
             "pattern": {
              "fillmode": "overlay",
              "size": 10,
              "solidity": 0.2
             }
            },
            "type": "bar"
           }
          ],
          "barpolar": [
           {
            "marker": {
             "line": {
              "color": "#E5ECF6",
              "width": 0.5
             },
             "pattern": {
              "fillmode": "overlay",
              "size": 10,
              "solidity": 0.2
             }
            },
            "type": "barpolar"
           }
          ],
          "carpet": [
           {
            "aaxis": {
             "endlinecolor": "#2a3f5f",
             "gridcolor": "white",
             "linecolor": "white",
             "minorgridcolor": "white",
             "startlinecolor": "#2a3f5f"
            },
            "baxis": {
             "endlinecolor": "#2a3f5f",
             "gridcolor": "white",
             "linecolor": "white",
             "minorgridcolor": "white",
             "startlinecolor": "#2a3f5f"
            },
            "type": "carpet"
           }
          ],
          "choropleth": [
           {
            "colorbar": {
             "outlinewidth": 0,
             "ticks": ""
            },
            "type": "choropleth"
           }
          ],
          "contour": [
           {
            "colorbar": {
             "outlinewidth": 0,
             "ticks": ""
            },
            "colorscale": [
             [
              0,
              "#0d0887"
             ],
             [
              0.1111111111111111,
              "#46039f"
             ],
             [
              0.2222222222222222,
              "#7201a8"
             ],
             [
              0.3333333333333333,
              "#9c179e"
             ],
             [
              0.4444444444444444,
              "#bd3786"
             ],
             [
              0.5555555555555556,
              "#d8576b"
             ],
             [
              0.6666666666666666,
              "#ed7953"
             ],
             [
              0.7777777777777778,
              "#fb9f3a"
             ],
             [
              0.8888888888888888,
              "#fdca26"
             ],
             [
              1,
              "#f0f921"
             ]
            ],
            "type": "contour"
           }
          ],
          "contourcarpet": [
           {
            "colorbar": {
             "outlinewidth": 0,
             "ticks": ""
            },
            "type": "contourcarpet"
           }
          ],
          "heatmap": [
           {
            "colorbar": {
             "outlinewidth": 0,
             "ticks": ""
            },
            "colorscale": [
             [
              0,
              "#0d0887"
             ],
             [
              0.1111111111111111,
              "#46039f"
             ],
             [
              0.2222222222222222,
              "#7201a8"
             ],
             [
              0.3333333333333333,
              "#9c179e"
             ],
             [
              0.4444444444444444,
              "#bd3786"
             ],
             [
              0.5555555555555556,
              "#d8576b"
             ],
             [
              0.6666666666666666,
              "#ed7953"
             ],
             [
              0.7777777777777778,
              "#fb9f3a"
             ],
             [
              0.8888888888888888,
              "#fdca26"
             ],
             [
              1,
              "#f0f921"
             ]
            ],
            "type": "heatmap"
           }
          ],
          "heatmapgl": [
           {
            "colorbar": {
             "outlinewidth": 0,
             "ticks": ""
            },
            "colorscale": [
             [
              0,
              "#0d0887"
             ],
             [
              0.1111111111111111,
              "#46039f"
             ],
             [
              0.2222222222222222,
              "#7201a8"
             ],
             [
              0.3333333333333333,
              "#9c179e"
             ],
             [
              0.4444444444444444,
              "#bd3786"
             ],
             [
              0.5555555555555556,
              "#d8576b"
             ],
             [
              0.6666666666666666,
              "#ed7953"
             ],
             [
              0.7777777777777778,
              "#fb9f3a"
             ],
             [
              0.8888888888888888,
              "#fdca26"
             ],
             [
              1,
              "#f0f921"
             ]
            ],
            "type": "heatmapgl"
           }
          ],
          "histogram": [
           {
            "marker": {
             "pattern": {
              "fillmode": "overlay",
              "size": 10,
              "solidity": 0.2
             }
            },
            "type": "histogram"
           }
          ],
          "histogram2d": [
           {
            "colorbar": {
             "outlinewidth": 0,
             "ticks": ""
            },
            "colorscale": [
             [
              0,
              "#0d0887"
             ],
             [
              0.1111111111111111,
              "#46039f"
             ],
             [
              0.2222222222222222,
              "#7201a8"
             ],
             [
              0.3333333333333333,
              "#9c179e"
             ],
             [
              0.4444444444444444,
              "#bd3786"
             ],
             [
              0.5555555555555556,
              "#d8576b"
             ],
             [
              0.6666666666666666,
              "#ed7953"
             ],
             [
              0.7777777777777778,
              "#fb9f3a"
             ],
             [
              0.8888888888888888,
              "#fdca26"
             ],
             [
              1,
              "#f0f921"
             ]
            ],
            "type": "histogram2d"
           }
          ],
          "histogram2dcontour": [
           {
            "colorbar": {
             "outlinewidth": 0,
             "ticks": ""
            },
            "colorscale": [
             [
              0,
              "#0d0887"
             ],
             [
              0.1111111111111111,
              "#46039f"
             ],
             [
              0.2222222222222222,
              "#7201a8"
             ],
             [
              0.3333333333333333,
              "#9c179e"
             ],
             [
              0.4444444444444444,
              "#bd3786"
             ],
             [
              0.5555555555555556,
              "#d8576b"
             ],
             [
              0.6666666666666666,
              "#ed7953"
             ],
             [
              0.7777777777777778,
              "#fb9f3a"
             ],
             [
              0.8888888888888888,
              "#fdca26"
             ],
             [
              1,
              "#f0f921"
             ]
            ],
            "type": "histogram2dcontour"
           }
          ],
          "mesh3d": [
           {
            "colorbar": {
             "outlinewidth": 0,
             "ticks": ""
            },
            "type": "mesh3d"
           }
          ],
          "parcoords": [
           {
            "line": {
             "colorbar": {
              "outlinewidth": 0,
              "ticks": ""
             }
            },
            "type": "parcoords"
           }
          ],
          "pie": [
           {
            "automargin": true,
            "type": "pie"
           }
          ],
          "scatter": [
           {
            "fillpattern": {
             "fillmode": "overlay",
             "size": 10,
             "solidity": 0.2
            },
            "type": "scatter"
           }
          ],
          "scatter3d": [
           {
            "line": {
             "colorbar": {
              "outlinewidth": 0,
              "ticks": ""
             }
            },
            "marker": {
             "colorbar": {
              "outlinewidth": 0,
              "ticks": ""
             }
            },
            "type": "scatter3d"
           }
          ],
          "scattercarpet": [
           {
            "marker": {
             "colorbar": {
              "outlinewidth": 0,
              "ticks": ""
             }
            },
            "type": "scattercarpet"
           }
          ],
          "scattergeo": [
           {
            "marker": {
             "colorbar": {
              "outlinewidth": 0,
              "ticks": ""
             }
            },
            "type": "scattergeo"
           }
          ],
          "scattergl": [
           {
            "marker": {
             "colorbar": {
              "outlinewidth": 0,
              "ticks": ""
             }
            },
            "type": "scattergl"
           }
          ],
          "scattermapbox": [
           {
            "marker": {
             "colorbar": {
              "outlinewidth": 0,
              "ticks": ""
             }
            },
            "type": "scattermapbox"
           }
          ],
          "scatterpolar": [
           {
            "marker": {
             "colorbar": {
              "outlinewidth": 0,
              "ticks": ""
             }
            },
            "type": "scatterpolar"
           }
          ],
          "scatterpolargl": [
           {
            "marker": {
             "colorbar": {
              "outlinewidth": 0,
              "ticks": ""
             }
            },
            "type": "scatterpolargl"
           }
          ],
          "scatterternary": [
           {
            "marker": {
             "colorbar": {
              "outlinewidth": 0,
              "ticks": ""
             }
            },
            "type": "scatterternary"
           }
          ],
          "surface": [
           {
            "colorbar": {
             "outlinewidth": 0,
             "ticks": ""
            },
            "colorscale": [
             [
              0,
              "#0d0887"
             ],
             [
              0.1111111111111111,
              "#46039f"
             ],
             [
              0.2222222222222222,
              "#7201a8"
             ],
             [
              0.3333333333333333,
              "#9c179e"
             ],
             [
              0.4444444444444444,
              "#bd3786"
             ],
             [
              0.5555555555555556,
              "#d8576b"
             ],
             [
              0.6666666666666666,
              "#ed7953"
             ],
             [
              0.7777777777777778,
              "#fb9f3a"
             ],
             [
              0.8888888888888888,
              "#fdca26"
             ],
             [
              1,
              "#f0f921"
             ]
            ],
            "type": "surface"
           }
          ],
          "table": [
           {
            "cells": {
             "fill": {
              "color": "#EBF0F8"
             },
             "line": {
              "color": "white"
             }
            },
            "header": {
             "fill": {
              "color": "#C8D4E3"
             },
             "line": {
              "color": "white"
             }
            },
            "type": "table"
           }
          ]
         },
         "layout": {
          "annotationdefaults": {
           "arrowcolor": "#2a3f5f",
           "arrowhead": 0,
           "arrowwidth": 1
          },
          "autotypenumbers": "strict",
          "coloraxis": {
           "colorbar": {
            "outlinewidth": 0,
            "ticks": ""
           }
          },
          "colorscale": {
           "diverging": [
            [
             0,
             "#8e0152"
            ],
            [
             0.1,
             "#c51b7d"
            ],
            [
             0.2,
             "#de77ae"
            ],
            [
             0.3,
             "#f1b6da"
            ],
            [
             0.4,
             "#fde0ef"
            ],
            [
             0.5,
             "#f7f7f7"
            ],
            [
             0.6,
             "#e6f5d0"
            ],
            [
             0.7,
             "#b8e186"
            ],
            [
             0.8,
             "#7fbc41"
            ],
            [
             0.9,
             "#4d9221"
            ],
            [
             1,
             "#276419"
            ]
           ],
           "sequential": [
            [
             0,
             "#0d0887"
            ],
            [
             0.1111111111111111,
             "#46039f"
            ],
            [
             0.2222222222222222,
             "#7201a8"
            ],
            [
             0.3333333333333333,
             "#9c179e"
            ],
            [
             0.4444444444444444,
             "#bd3786"
            ],
            [
             0.5555555555555556,
             "#d8576b"
            ],
            [
             0.6666666666666666,
             "#ed7953"
            ],
            [
             0.7777777777777778,
             "#fb9f3a"
            ],
            [
             0.8888888888888888,
             "#fdca26"
            ],
            [
             1,
             "#f0f921"
            ]
           ],
           "sequentialminus": [
            [
             0,
             "#0d0887"
            ],
            [
             0.1111111111111111,
             "#46039f"
            ],
            [
             0.2222222222222222,
             "#7201a8"
            ],
            [
             0.3333333333333333,
             "#9c179e"
            ],
            [
             0.4444444444444444,
             "#bd3786"
            ],
            [
             0.5555555555555556,
             "#d8576b"
            ],
            [
             0.6666666666666666,
             "#ed7953"
            ],
            [
             0.7777777777777778,
             "#fb9f3a"
            ],
            [
             0.8888888888888888,
             "#fdca26"
            ],
            [
             1,
             "#f0f921"
            ]
           ]
          },
          "colorway": [
           "#636efa",
           "#EF553B",
           "#00cc96",
           "#ab63fa",
           "#FFA15A",
           "#19d3f3",
           "#FF6692",
           "#B6E880",
           "#FF97FF",
           "#FECB52"
          ],
          "font": {
           "color": "#2a3f5f"
          },
          "geo": {
           "bgcolor": "white",
           "lakecolor": "white",
           "landcolor": "#E5ECF6",
           "showlakes": true,
           "showland": true,
           "subunitcolor": "white"
          },
          "hoverlabel": {
           "align": "left"
          },
          "hovermode": "closest",
          "mapbox": {
           "style": "light"
          },
          "paper_bgcolor": "white",
          "plot_bgcolor": "#E5ECF6",
          "polar": {
           "angularaxis": {
            "gridcolor": "white",
            "linecolor": "white",
            "ticks": ""
           },
           "bgcolor": "#E5ECF6",
           "radialaxis": {
            "gridcolor": "white",
            "linecolor": "white",
            "ticks": ""
           }
          },
          "scene": {
           "xaxis": {
            "backgroundcolor": "#E5ECF6",
            "gridcolor": "white",
            "gridwidth": 2,
            "linecolor": "white",
            "showbackground": true,
            "ticks": "",
            "zerolinecolor": "white"
           },
           "yaxis": {
            "backgroundcolor": "#E5ECF6",
            "gridcolor": "white",
            "gridwidth": 2,
            "linecolor": "white",
            "showbackground": true,
            "ticks": "",
            "zerolinecolor": "white"
           },
           "zaxis": {
            "backgroundcolor": "#E5ECF6",
            "gridcolor": "white",
            "gridwidth": 2,
            "linecolor": "white",
            "showbackground": true,
            "ticks": "",
            "zerolinecolor": "white"
           }
          },
          "shapedefaults": {
           "line": {
            "color": "#2a3f5f"
           }
          },
          "ternary": {
           "aaxis": {
            "gridcolor": "white",
            "linecolor": "white",
            "ticks": ""
           },
           "baxis": {
            "gridcolor": "white",
            "linecolor": "white",
            "ticks": ""
           },
           "bgcolor": "#E5ECF6",
           "caxis": {
            "gridcolor": "white",
            "linecolor": "white",
            "ticks": ""
           }
          },
          "title": {
           "x": 0.05
          },
          "xaxis": {
           "automargin": true,
           "gridcolor": "white",
           "linecolor": "white",
           "ticks": "",
           "title": {
            "standoff": 15
           },
           "zerolinecolor": "white",
           "zerolinewidth": 2
          },
          "yaxis": {
           "automargin": true,
           "gridcolor": "white",
           "linecolor": "white",
           "ticks": "",
           "title": {
            "standoff": 15
           },
           "zerolinecolor": "white",
           "zerolinewidth": 2
          }
         }
        },
        "xaxis": {
         "anchor": "y",
         "domain": [
          0,
          1
         ]
        },
        "yaxis": {
         "anchor": "x",
         "domain": [
          0,
          1
         ],
         "title": {
          "text": "auc"
         }
        }
       }
      }
     },
     "metadata": {},
     "output_type": "display_data"
    }
   ],
   "source": [
    "import plotly.express as px\n",
    "\n",
    "fig = px.box(df, y=\"auc\")\n",
    "fig.show()"
   ]
  },
  {
   "cell_type": "code",
   "execution_count": 17,
   "metadata": {},
   "outputs": [
    {
     "name": "stdout",
     "output_type": "stream",
     "text": [
      "0.63 +/- 0.1\n"
     ]
    },
    {
     "data": {
      "image/png": "[encoded data removed]",
      "text/plain": [
       "<Figure size 640x480 with 1 Axes>"
      ]
     },
     "metadata": {},
     "output_type": "display_data"
    }
   ],
   "source": [
    "sns.boxplot(df['auc'])\n",
    "auc_mean=str(np.round(df['auc'].mean(),2))\n",
    "auc_std=str(np.round(df['auc'].std(),2))\n",
    "print(auc_mean+\" +/- \"+auc_std)"
   ]
  },
  {
   "cell_type": "code",
   "execution_count": null,
   "metadata": {},
   "outputs": [],
   "source": []
  }
 ],
 "metadata": {
  "kernelspec": {
   "display_name": "env_full",
   "language": "python",
   "name": "python3"
  },
  "language_info": {
   "codemirror_mode": {
    "name": "ipython",
    "version": 3
   },
   "file_extension": ".py",
   "mimetype": "text/x-python",
   "name": "python",
   "nbconvert_exporter": "python",
   "pygments_lexer": "ipython3",
   "version": "3.9.15"
  },
  "orig_nbformat": 4,
  "vscode": {
   "interpreter": {
    "hash": "0f63e9debaf732e869d97ff2510f8cbd9ece4138d78839134b13584d6064e1d6"
   }
  }
 },
 "nbformat": 4,
 "nbformat_minor": 2
}
