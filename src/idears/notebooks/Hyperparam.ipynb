{
 "cells": [
  {
   "cell_type": "code",
   "execution_count": 1,
   "id": "66236bfd-f00e-4857-95d5-847f657e393d",
   "metadata": {},
   "outputs": [],
   "source": [
    "\n",
    "import os\n",
    "%load_ext autoreload\n",
    "%autoreload 2\n",
    "import sys\n",
    "sys.path.append(\"../../../ukb-dementia-shap/\")\n",
    "\n",
    "\n",
    "from logic.data_processing.data_import import dataload\n",
    "from logic.data_processing.data_processing import data_proc_main\n",
    "from logic.analysis.analysis import AnalysisCharts\n",
    "from logic.ml.classification_shap import IDEARs_funcs\n",
    "from ukb_utils.utils import basic_funcs\n",
    "from pandas.tseries.offsets import DateOffset\n",
    "\n",
    "\n",
    "import pandas as pd\n",
    "import numpy as np\n",
    "import re\n",
    "\n",
    "ac=dataload()\n",
    "dp=data_proc_main()\n",
    "ml=IDEARs_funcs()\n",
    "an=AnalysisCharts()\n"
   ]
  },
  {
   "cell_type": "code",
   "execution_count": 3,
   "id": "57d40ea2-39ba-427f-a461-48c018b6ad1c",
   "metadata": {},
   "outputs": [],
   "source": [
    "df=pd.read_parquet(dp.path+'df_ad_20211214.parquet')"
   ]
  },
  {
   "cell_type": "code",
   "execution_count": 4,
   "id": "8298e63e-1ad7-40f2-8733-97203079cee8",
   "metadata": {},
   "outputs": [
    {
     "data": {
      "text/plain": [
       "(468500, 1732)"
      ]
     },
     "execution_count": 4,
     "metadata": {},
     "output_type": "execute_result"
    }
   ],
   "source": [
    "df.shape"
   ]
  },
  {
   "cell_type": "code",
   "execution_count": 3,
   "id": "26ea66c4-f5b0-47ec-9404-5c8dba30a211",
   "metadata": {},
   "outputs": [],
   "source": [
    "#dp.studyvars(depvar=\"AD\")"
   ]
  },
  {
   "cell_type": "code",
   "execution_count": 6,
   "id": "59181ff3-a551-417a-a717-1619dd1845f3",
   "metadata": {},
   "outputs": [],
   "source": [
    "vars_PD=['AST_ALT_ratio',\n",
    " 'age_when_attended_assessment_centre_f21003_0_0',\n",
    " 'alanine_aminotransferase_f30620_0_0',\n",
    " 'apolipoprotein_a_f30630_0_0',\n",
    " 'avg_duration_to_first_press_of_snapbutton_in_each_round',\n",
    " 'total_bilirubin_f30840_0_0',\n",
    " 'creactive_protein_f30710_0_0',\n",
    " 'chest_pain_or_discomfort_f2335_0_0',\n",
    " 'cholesterol_f30690_0_0',\n",
    " 'coffee_intake_f1498_0_0',\n",
    " 'forced_vital_capacity_fvc_f3062_0_0',\n",
    " 'glycated_haemoglobin_hba1c_f30750_0_0',\n",
    " 'hand_grip_strength_left_f46_0_0',\n",
    " 'hand_grip_strength_right_f47_0_0',\n",
    " 'hip_circumference_f49_0_0',\n",
    " 'igf1_f30770_0_0',\n",
    " 'lymphocyte_count_f30120_0_0',\n",
    " 'mean_corpuscular_volume_f30040_0_0',\n",
    " 'mother_still_alive_f1835_0_0',\n",
    " 'neuroticism_score_f20127_0_0',\n",
    " 'neutrophill_percentage_f30200_0_0',\n",
    " 'neutrophill_lymphocyte_ratio',\n",
    " 'number_of_selfreported_noncancer_illnesses_f135_0_0',\n",
    " 'number_of_treatmentsmedications_taken_f137_0_0',\n",
    " 'parental_pd',\n",
    " 'platelet_count_f30080_0_0',\n",
    " 'Retired',\n",
    " 'smoking_status_f20116_0_0',\n",
    " 'suffer_from_nerves_f2010_0_0',\n",
    " 'testosterone_f30850_0_0',\n",
    " 'Total ICD10 Conditions at baseline',\n",
    " 'triglycerides_f30870_0_0',\n",
    " 'urate_f30880_0_0',\n",
    " 'usual_walking_pace_f924_0_0',\n",
    " 'vitamin_d_f30890_0_0',\n",
    " 'waist_circumference_f48_0_0','eid','PD']"
   ]
  },
  {
   "cell_type": "code",
   "execution_count": 25,
   "id": "8101b693-6cb8-48b0-acc7-654a1bcaa7da",
   "metadata": {},
   "outputs": [
    {
     "name": "stdout",
     "output_type": "stream",
     "text": [
      "1639\n"
     ]
    }
   ],
   "source": [
    "cols=list(df.columns)\n",
    "dropwords=ml.wordsremovePD\n",
    "dropcols=['date_of_attending_assessment_centre_f53_0_0','AD','dementia']\n",
    "cols=[c for c in cols if c not in dropcols and not re.search(dropwords,c)]\n",
    "print(len(cols))"
   ]
  },
  {
   "cell_type": "code",
   "execution_count": null,
   "id": "f8034fb1-ad12-4517-9220-0d97a89ce657",
   "metadata": {},
   "outputs": [],
   "source": [
    "config=dict(scale_pos_weight = 6,subsample = 1, min_child_weight = 5, max_depth = 5, gamma= 2, \n",
    "                      colsample_bytree= 0.6,smote=1,reps=2)"
   ]
  },
  {
   "cell_type": "code",
   "execution_count": 21,
   "id": "7e54cf05-c745-4cd5-87a3-b54e42cd8e19",
   "metadata": {},
   "outputs": [],
   "source": [
    "mod_xgb=XGBClassifier(base_score=0.5, booster='gbtree', colsample_bylevel=1,\n",
    "               colsample_bynode=1, learning_rate=0.1,\n",
    "               max_delta_step=0,  missing=None, \n",
    "               n_estimators=60, n_jobs=4, nthread=4, objective='binary:logistic',\n",
    "               random_state=0, reg_alpha=0, reg_lambda=1, scale_pos_weight=ml.config['scale_pos_weight'],\n",
    "               min_child_weight=ml.config['min_child_weight'],\n",
    "               gamma=ml.config['gamma'], colsample_bytree=ml.config['colsample_bytree'],max_depth=ml.config['max_depth'],\n",
    "               seed=42, silent=None, subsample=1, verbosity=1,eval_metric='auc')\n"
   ]
  },
  {
   "cell_type": "code",
   "execution_count": 27,
   "id": "3cb080e4-6b53-4df9-bb53-af6011bc5595",
   "metadata": {},
   "outputs": [
    {
     "name": "stdout",
     "output_type": "stream",
     "text": [
      "0.722605582096099\n",
      "0.7361428629632423\n",
      "0.7366881649403033\n",
      "0.7271800853169392\n"
     ]
    }
   ],
   "source": [
    "for m in [1,3,5,7]:\n",
    "    mod_xgb=XGBClassifier(base_score=0.5, booster='gbtree', colsample_bylevel=1,\n",
    "               colsample_bynode=1, learning_rate=0.1,\n",
    "               max_delta_step=0,  missing=None, \n",
    "               n_estimators=60, n_jobs=4, nthread=4, objective='binary:logistic',\n",
    "               random_state=0, reg_alpha=0, reg_lambda=1, scale_pos_weight=ml.config['scale_pos_weight'],\n",
    "               min_child_weight=ml.config['min_child_weight'],\n",
    "               gamma=ml.config['gamma'], colsample_bytree=ml.config['colsample_bytree'],\n",
    "            max_depth=m,\n",
    "               seed=42, silent=None, subsample=1, verbosity=1,eval_metric='auc')\n",
    "    auc=ml.train_eval(df_train,df_test,model=mod_xgb,dropcols=dropcols,depvar='PD',wordsremove=ml.wordsremovePD,resizeratio=20,shapshow=1)\n",
    "    print(auc)\n",
    "    "
   ]
  },
  {
   "cell_type": "code",
   "execution_count": 28,
   "id": "e30489f6-a3c7-4103-99ee-f9ad2ea499f2",
   "metadata": {},
   "outputs": [
    {
     "name": "stdout",
     "output_type": "stream",
     "text": [
      "min child weight 1 :0.7305832360276392\n",
      "min child weight 2 :0.7306905106793541\n",
      "min child weight 3 :0.7315438967874819\n",
      "min child weight 4 :0.7316617818774755\n",
      "min child weight 5 :0.7366881649403033\n",
      "min child weight 6 :0.7372950317316254\n",
      "min child weight 7 :0.7359893496858911\n"
     ]
    }
   ],
   "source": [
    "aucs=[]\n",
    "mcw=[]\n",
    "max_depth=[]\n",
    "for m in [1,2,3,4,5,6,7]:\n",
    "    mod_xgb=XGBClassifier(base_score=0.5, booster='gbtree', colsample_bylevel=1,\n",
    "               colsample_bynode=1, learning_rate=0.1,\n",
    "               max_delta_step=0,  missing=None, \n",
    "               n_estimators=60, n_jobs=4, nthread=4, objective='binary:logistic',\n",
    "               random_state=0, reg_alpha=0, reg_lambda=1, scale_pos_weight=ml.config['scale_pos_weight'],\n",
    "               min_child_weight=m,\n",
    "               gamma=ml.config['gamma'], colsample_bytree=ml.config['colsample_bytree'],\n",
    "            max_depth=5,\n",
    "               seed=42, silent=None, subsample=1, verbosity=1,eval_metric='auc')\n",
    "    \n",
    "    mcw.append(m)\n",
    "    mcw.append(5)\n",
    "    auc=ml.train_eval(df_train,df_test,model=mod_xgb,dropcols=dropcols,depvar='PD',wordsremove=ml.wordsremovePD,resizeratio=20,shapshow=1)\n",
    "    aucs.append(round(auc,5))\n",
    "    print('min child weight '+str(m)+' :'+str(auc))"
   ]
  },
  {
   "cell_type": "code",
   "execution_count": 30,
   "id": "05b21835-91be-4a92-857f-af3bfb25b5f4",
   "metadata": {},
   "outputs": [
    {
     "name": "stdout",
     "output_type": "stream",
     "text": [
      "scale positive weight 7 :0.7314854786963377\n",
      "scale positive weight 7 :0.7372950317316254\n",
      "scale positive weight 7 :0.7356550948741354\n",
      "scale positive weight 7 :0.7336246782844031\n",
      "scale positive weight 7 :0.7339494495835143\n"
     ]
    }
   ],
   "source": [
    "aucs2=[]\n",
    "posw=[]\n",
    "\n",
    "for s in [1,6,10,15,20]:\n",
    "    mod_xgb=XGBClassifier(base_score=0.5, booster='gbtree', colsample_bylevel=1,\n",
    "               colsample_bynode=1, learning_rate=0.1,\n",
    "               max_delta_step=0,  missing=None, \n",
    "               n_estimators=60, n_jobs=4, nthread=4, objective='binary:logistic',\n",
    "               random_state=0, reg_alpha=0, reg_lambda=1, scale_pos_weight=s,\n",
    "               min_child_weight=6,\n",
    "               gamma=ml.config['gamma'], colsample_bytree=ml.config['colsample_bytree'],\n",
    "            max_depth=5,\n",
    "               seed=42, silent=None, subsample=1, verbosity=1,eval_metric='auc')\n",
    "    \n",
    "    posw.append(s)\n",
    "    auc=ml.train_eval(df_train,df_test,model=mod_xgb,dropcols=dropcols,depvar='PD',wordsremove=ml.wordsremovePD,resizeratio=20,shapshow=1)\n",
    "    aucs.append(round(auc,5))\n",
    "    print('scale positive weight '+str(s)+' :'+str(auc))\n"
   ]
  },
  {
   "cell_type": "code",
   "execution_count": 32,
   "id": "28ebd405-b505-496c-a555-b85201d8f51e",
   "metadata": {},
   "outputs": [
    {
     "name": "stdout",
     "output_type": "stream",
     "text": [
      "scale positive weight 0.05 :0.7249635352870756\n",
      "scale positive weight 0.1 :0.7372950317316254\n",
      "scale positive weight 0.15 :0.7284878738467433\n",
      "scale positive weight 0.2 :0.7192111433874171\n",
      "scale positive weight 0.4 :0.6895591033486161\n",
      "scale positive weight 0.6 :0.659630585108458\n"
     ]
    }
   ],
   "source": [
    "aucs3=[]\n",
    "lr=[]\n",
    "\n",
    "for lr in [0.05,0.1,0.15,0.2,0.4,0.6]:\n",
    "    mod_xgb=XGBClassifier(base_score=0.5, booster='gbtree', colsample_bylevel=1,\n",
    "               colsample_bynode=1, learning_rate=lr,\n",
    "               max_delta_step=0,  missing=None, \n",
    "               n_estimators=60, n_jobs=4, nthread=4, objective='binary:logistic',\n",
    "               random_state=0, reg_alpha=0, reg_lambda=1, scale_pos_weight=6,\n",
    "               min_child_weight=6,\n",
    "               gamma=ml.config['gamma'], colsample_bytree=ml.config['colsample_bytree'],\n",
    "            max_depth=5,\n",
    "               seed=42, silent=None, subsample=1, verbosity=1,eval_metric='auc')\n",
    "    \n",
    "    posw.append(s)\n",
    "    auc=ml.train_eval(df_train,df_test,model=mod_xgb,dropcols=dropcols,depvar='PD',wordsremove=ml.wordsremovePD,resizeratio=20,shapshow=1)\n",
    "    aucs.append(round(auc,5))\n",
    "    print('scale positive weight '+str(lr)+' :'+str(auc))\n",
    "\n"
   ]
  },
  {
   "cell_type": "code",
   "execution_count": 7,
   "id": "fab6bb14-aec5-40c0-b729-6daadafaafac",
   "metadata": {},
   "outputs": [],
   "source": [
    "df=pd.read_parquet(dp.path+'df_PD_final.parquet')"
   ]
  },
  {
   "cell_type": "code",
   "execution_count": 19,
   "id": "9cd2d8e7-9282-4790-a0d1-d0da2ca93e90",
   "metadata": {},
   "outputs": [
    {
     "name": "stdout",
     "output_type": "stream",
     "text": [
      "Total PD in data: 1835\n"
     ]
    }
   ],
   "source": [
    "df_train,df_test=ml.holdout_data(df,agemin=50,agemax=70,depvar='PD',apoe=3,holdout_ratio=0.3)"
   ]
  },
  {
   "cell_type": "code",
   "execution_count": 26,
   "id": "7beaed6d-1946-490c-92ac-4bf9779c056b",
   "metadata": {},
   "outputs": [
    {
     "ename": "ValueError",
     "evalue": "Length of values (245984) does not match length of index (105421)",
     "output_type": "error",
     "traceback": [
      "\u001b[0;31m---------------------------------------------------------------------------\u001b[0m",
      "\u001b[0;31mValueError\u001b[0m                                Traceback (most recent call last)",
      "\u001b[0;32m<ipython-input-26-95a1b9d0b61d>\u001b[0m in \u001b[0;36m<module>\u001b[0;34m\u001b[0m\n\u001b[0;32m----> 1\u001b[0;31m \u001b[0mml\u001b[0m\u001b[0;34m.\u001b[0m\u001b[0mtrain_eval\u001b[0m\u001b[0;34m(\u001b[0m\u001b[0mdf_train\u001b[0m\u001b[0;34m,\u001b[0m\u001b[0mdf_test\u001b[0m\u001b[0;34m,\u001b[0m\u001b[0mmodel\u001b[0m\u001b[0;34m=\u001b[0m\u001b[0mmod_xgb\u001b[0m\u001b[0;34m,\u001b[0m\u001b[0mdropcols\u001b[0m\u001b[0;34m=\u001b[0m\u001b[0mdropcols\u001b[0m\u001b[0;34m,\u001b[0m\u001b[0mdepvar\u001b[0m\u001b[0;34m=\u001b[0m\u001b[0;34m'PD'\u001b[0m\u001b[0;34m,\u001b[0m\u001b[0mwordsremove\u001b[0m\u001b[0;34m=\u001b[0m\u001b[0mml\u001b[0m\u001b[0;34m.\u001b[0m\u001b[0mwordsremovePD\u001b[0m\u001b[0;34m,\u001b[0m\u001b[0mresizeratio\u001b[0m\u001b[0;34m=\u001b[0m\u001b[0;36m20\u001b[0m\u001b[0;34m,\u001b[0m\u001b[0mshapshow\u001b[0m\u001b[0;34m=\u001b[0m\u001b[0;36m1\u001b[0m\u001b[0;34m)\u001b[0m\u001b[0;34m\u001b[0m\u001b[0;34m\u001b[0m\u001b[0m\n\u001b[0m",
      "\u001b[0;32m~/Documents/GitHub/ukb-dementia-shap/logic/ml/classification_shap.py\u001b[0m in \u001b[0;36mtrain_eval\u001b[0;34m(self, df_train, df_test, model, dropcols, depvar, wordsremove, resizeratio, shapshow)\u001b[0m\n\u001b[1;32m    560\u001b[0m                 \u001b[0my_test\u001b[0m\u001b[0;34m=\u001b[0m\u001b[0mdf_out_test\u001b[0m\u001b[0;34m[\u001b[0m\u001b[0mdepvar\u001b[0m\u001b[0;34m]\u001b[0m\u001b[0;34m\u001b[0m\u001b[0;34m\u001b[0m\u001b[0m\n\u001b[1;32m    561\u001b[0m \u001b[0;34m\u001b[0m\u001b[0m\n\u001b[0;32m--> 562\u001b[0;31m                 \u001b[0mdf_out_test\u001b[0m\u001b[0;34m[\u001b[0m\u001b[0;34m'risk'\u001b[0m\u001b[0;34m]\u001b[0m\u001b[0;34m=\u001b[0m\u001b[0mmod\u001b[0m\u001b[0;34m.\u001b[0m\u001b[0mpredict_proba\u001b[0m\u001b[0;34m(\u001b[0m\u001b[0mX\u001b[0m\u001b[0;34m)\u001b[0m\u001b[0;34m[\u001b[0m\u001b[0;34m:\u001b[0m\u001b[0;34m,\u001b[0m \u001b[0;36m1\u001b[0m\u001b[0;34m]\u001b[0m\u001b[0;34m\u001b[0m\u001b[0;34m\u001b[0m\u001b[0m\n\u001b[0m\u001b[1;32m    563\u001b[0m                 \u001b[0mdf_out_test\u001b[0m\u001b[0;34m[\u001b[0m\u001b[0;34m'y_pred'\u001b[0m\u001b[0;34m]\u001b[0m\u001b[0;34m=\u001b[0m\u001b[0mmod\u001b[0m\u001b[0;34m.\u001b[0m\u001b[0mpredict\u001b[0m\u001b[0;34m(\u001b[0m\u001b[0mX\u001b[0m\u001b[0;34m)\u001b[0m\u001b[0;34m\u001b[0m\u001b[0;34m\u001b[0m\u001b[0m\n\u001b[1;32m    564\u001b[0m                 \u001b[0mdf_out_test\u001b[0m\u001b[0;34m[\u001b[0m\u001b[0;34m'y_test'\u001b[0m\u001b[0;34m]\u001b[0m\u001b[0;34m=\u001b[0m\u001b[0my_test\u001b[0m\u001b[0;34m.\u001b[0m\u001b[0mtolist\u001b[0m\u001b[0;34m(\u001b[0m\u001b[0;34m)\u001b[0m\u001b[0;34m\u001b[0m\u001b[0;34m\u001b[0m\u001b[0m\n",
      "\u001b[0;32m~/opt/anaconda3/lib/python3.8/site-packages/pandas/core/frame.py\u001b[0m in \u001b[0;36m__setitem__\u001b[0;34m(self, key, value)\u001b[0m\n\u001b[1;32m   3161\u001b[0m         \u001b[0;32melse\u001b[0m\u001b[0;34m:\u001b[0m\u001b[0;34m\u001b[0m\u001b[0;34m\u001b[0m\u001b[0m\n\u001b[1;32m   3162\u001b[0m             \u001b[0;31m# set column\u001b[0m\u001b[0;34m\u001b[0m\u001b[0;34m\u001b[0m\u001b[0;34m\u001b[0m\u001b[0m\n\u001b[0;32m-> 3163\u001b[0;31m             \u001b[0mself\u001b[0m\u001b[0;34m.\u001b[0m\u001b[0m_set_item\u001b[0m\u001b[0;34m(\u001b[0m\u001b[0mkey\u001b[0m\u001b[0;34m,\u001b[0m \u001b[0mvalue\u001b[0m\u001b[0;34m)\u001b[0m\u001b[0;34m\u001b[0m\u001b[0;34m\u001b[0m\u001b[0m\n\u001b[0m\u001b[1;32m   3164\u001b[0m \u001b[0;34m\u001b[0m\u001b[0m\n\u001b[1;32m   3165\u001b[0m     \u001b[0;32mdef\u001b[0m \u001b[0m_setitem_slice\u001b[0m\u001b[0;34m(\u001b[0m\u001b[0mself\u001b[0m\u001b[0;34m,\u001b[0m \u001b[0mkey\u001b[0m\u001b[0;34m:\u001b[0m \u001b[0mslice\u001b[0m\u001b[0;34m,\u001b[0m \u001b[0mvalue\u001b[0m\u001b[0;34m)\u001b[0m\u001b[0;34m:\u001b[0m\u001b[0;34m\u001b[0m\u001b[0;34m\u001b[0m\u001b[0m\n",
      "\u001b[0;32m~/opt/anaconda3/lib/python3.8/site-packages/pandas/core/frame.py\u001b[0m in \u001b[0;36m_set_item\u001b[0;34m(self, key, value)\u001b[0m\n\u001b[1;32m   3240\u001b[0m         \"\"\"\n\u001b[1;32m   3241\u001b[0m         \u001b[0mself\u001b[0m\u001b[0;34m.\u001b[0m\u001b[0m_ensure_valid_index\u001b[0m\u001b[0;34m(\u001b[0m\u001b[0mvalue\u001b[0m\u001b[0;34m)\u001b[0m\u001b[0;34m\u001b[0m\u001b[0;34m\u001b[0m\u001b[0m\n\u001b[0;32m-> 3242\u001b[0;31m         \u001b[0mvalue\u001b[0m \u001b[0;34m=\u001b[0m \u001b[0mself\u001b[0m\u001b[0;34m.\u001b[0m\u001b[0m_sanitize_column\u001b[0m\u001b[0;34m(\u001b[0m\u001b[0mkey\u001b[0m\u001b[0;34m,\u001b[0m \u001b[0mvalue\u001b[0m\u001b[0;34m)\u001b[0m\u001b[0;34m\u001b[0m\u001b[0;34m\u001b[0m\u001b[0m\n\u001b[0m\u001b[1;32m   3243\u001b[0m         \u001b[0mNDFrame\u001b[0m\u001b[0;34m.\u001b[0m\u001b[0m_set_item\u001b[0m\u001b[0;34m(\u001b[0m\u001b[0mself\u001b[0m\u001b[0;34m,\u001b[0m \u001b[0mkey\u001b[0m\u001b[0;34m,\u001b[0m \u001b[0mvalue\u001b[0m\u001b[0;34m)\u001b[0m\u001b[0;34m\u001b[0m\u001b[0;34m\u001b[0m\u001b[0m\n\u001b[1;32m   3244\u001b[0m \u001b[0;34m\u001b[0m\u001b[0m\n",
      "\u001b[0;32m~/opt/anaconda3/lib/python3.8/site-packages/pandas/core/frame.py\u001b[0m in \u001b[0;36m_sanitize_column\u001b[0;34m(self, key, value, broadcast)\u001b[0m\n\u001b[1;32m   3897\u001b[0m \u001b[0;34m\u001b[0m\u001b[0m\n\u001b[1;32m   3898\u001b[0m             \u001b[0;31m# turn me into an ndarray\u001b[0m\u001b[0;34m\u001b[0m\u001b[0;34m\u001b[0m\u001b[0;34m\u001b[0m\u001b[0m\n\u001b[0;32m-> 3899\u001b[0;31m             \u001b[0mvalue\u001b[0m \u001b[0;34m=\u001b[0m \u001b[0msanitize_index\u001b[0m\u001b[0;34m(\u001b[0m\u001b[0mvalue\u001b[0m\u001b[0;34m,\u001b[0m \u001b[0mself\u001b[0m\u001b[0;34m.\u001b[0m\u001b[0mindex\u001b[0m\u001b[0;34m)\u001b[0m\u001b[0;34m\u001b[0m\u001b[0;34m\u001b[0m\u001b[0m\n\u001b[0m\u001b[1;32m   3900\u001b[0m             \u001b[0;32mif\u001b[0m \u001b[0;32mnot\u001b[0m \u001b[0misinstance\u001b[0m\u001b[0;34m(\u001b[0m\u001b[0mvalue\u001b[0m\u001b[0;34m,\u001b[0m \u001b[0;34m(\u001b[0m\u001b[0mnp\u001b[0m\u001b[0;34m.\u001b[0m\u001b[0mndarray\u001b[0m\u001b[0;34m,\u001b[0m \u001b[0mIndex\u001b[0m\u001b[0;34m)\u001b[0m\u001b[0;34m)\u001b[0m\u001b[0;34m:\u001b[0m\u001b[0;34m\u001b[0m\u001b[0;34m\u001b[0m\u001b[0m\n\u001b[1;32m   3901\u001b[0m                 \u001b[0;32mif\u001b[0m \u001b[0misinstance\u001b[0m\u001b[0;34m(\u001b[0m\u001b[0mvalue\u001b[0m\u001b[0;34m,\u001b[0m \u001b[0mlist\u001b[0m\u001b[0;34m)\u001b[0m \u001b[0;32mand\u001b[0m \u001b[0mlen\u001b[0m\u001b[0;34m(\u001b[0m\u001b[0mvalue\u001b[0m\u001b[0;34m)\u001b[0m \u001b[0;34m>\u001b[0m \u001b[0;36m0\u001b[0m\u001b[0;34m:\u001b[0m\u001b[0;34m\u001b[0m\u001b[0;34m\u001b[0m\u001b[0m\n",
      "\u001b[0;32m~/opt/anaconda3/lib/python3.8/site-packages/pandas/core/internals/construction.py\u001b[0m in \u001b[0;36msanitize_index\u001b[0;34m(data, index)\u001b[0m\n\u001b[1;32m    749\u001b[0m     \"\"\"\n\u001b[1;32m    750\u001b[0m     \u001b[0;32mif\u001b[0m \u001b[0mlen\u001b[0m\u001b[0;34m(\u001b[0m\u001b[0mdata\u001b[0m\u001b[0;34m)\u001b[0m \u001b[0;34m!=\u001b[0m \u001b[0mlen\u001b[0m\u001b[0;34m(\u001b[0m\u001b[0mindex\u001b[0m\u001b[0;34m)\u001b[0m\u001b[0;34m:\u001b[0m\u001b[0;34m\u001b[0m\u001b[0;34m\u001b[0m\u001b[0m\n\u001b[0;32m--> 751\u001b[0;31m         raise ValueError(\n\u001b[0m\u001b[1;32m    752\u001b[0m             \u001b[0;34m\"Length of values \"\u001b[0m\u001b[0;34m\u001b[0m\u001b[0;34m\u001b[0m\u001b[0m\n\u001b[1;32m    753\u001b[0m             \u001b[0;34mf\"({len(data)}) \"\u001b[0m\u001b[0;34m\u001b[0m\u001b[0;34m\u001b[0m\u001b[0m\n",
      "\u001b[0;31mValueError\u001b[0m: Length of values (245984) does not match length of index (105421)"
     ]
    }
   ],
   "source": [
    "ml.train_eval(df_train,df_test,model=mod_xgb,dropcols=dropcols,depvar='PD',wordsremove=ml.wordsremovePD,resizeratio=20,shapshow=1)"
   ]
  },
  {
   "cell_type": "code",
   "execution_count": 8,
   "id": "b2a5553e-c37e-48cc-81de-0a6d822929ac",
   "metadata": {},
   "outputs": [
    {
     "name": "stdout",
     "output_type": "stream",
     "text": [
      "Dataset has 466930 entries and 1750 features\n"
     ]
    }
   ],
   "source": [
    "print(\"Dataset has {} entries and {} features\".format(*df.shape))"
   ]
  },
  {
   "cell_type": "code",
   "execution_count": 15,
   "id": "796383fd-7090-4401-936c-8f3d67b3838f",
   "metadata": {},
   "outputs": [],
   "source": [
    "\n",
    "import pandas as pd\n",
    "import numpy as np\n",
    "import xgboost as xgb\n",
    "from xgboost.sklearn import XGBClassifier\n",
    "#from sklearn.model_selection import cross_val_score\n",
    "from sklearn import metrics   #Additional scklearn functions\n",
    "from sklearn.model_selection import GridSearchCV  #Perforing grid search\n",
    "\n",
    "import matplotlib.pylab as plt\n",
    "%matplotlib inline\n",
    "from matplotlib.pylab import rcParams\n",
    "rcParams['figure.figsize'] = 12, 4\n",
    "\n",
    "train = df[vars_PD]\n",
    "target = 'PD'\n",
    "IDcol = 'eid'\n",
    "\n",
    "\n",
    "    \n",
    "def modelfit(alg, dtrain, predictors,useTrainCV=True, cv_folds=5, early_stopping_rounds=50):\n",
    "\n",
    "    if useTrainCV:\n",
    "        xgb_param = alg.get_xgb_params()\n",
    "        xgtrain = xgb.DMatrix(dtrain[predictors].values, label=dtrain[target].values)\n",
    "        cvresult = xgb.cv(xgb_param, xgtrain, num_boost_round=alg.get_params()['n_estimators'], nfold=cv_folds,\n",
    "            metrics='auc', early_stopping_rounds=early_stopping_rounds)\n",
    "        alg.set_params(n_estimators=cvresult.shape[0])\n",
    "\n",
    "    #Fit the algorithm on the data\n",
    "    alg.fit(dtrain[predictors], dtrain['PD'],eval_metric='auc')\n",
    "\n",
    "    #Predict training set:\n",
    "    dtrain_predictions = alg.predict(dtrain[predictors])\n",
    "    dtrain_predprob = alg.predict_proba(dtrain[predictors])[:,1]\n",
    "\n",
    "    #Print model report:\n",
    "    print( \"\\nModel Report\")\n",
    "    print (\"Accuracy : %.4g\" % metrics.accuracy_score(dtrain[target].values, dtrain_predictions))\n",
    "    print (\"AUC Score (Train): %f\" % metrics.roc_auc_score(dtrain[target], dtrain_predprob))\n",
    "\n",
    "    feat_imp = pd.Series(alg.booster().get_fscore()).sort_values(ascending=False)\n",
    "    feat_imp.plot(kind='bar', title='Feature Importances')\n",
    "    plt.ylabel('Feature Importance Score')"
   ]
  },
  {
   "cell_type": "code",
   "execution_count": 16,
   "id": "7da9e9f6-d1e0-41ef-8f40-a8aff4144f7c",
   "metadata": {},
   "outputs": [
    {
     "name": "stdout",
     "output_type": "stream",
     "text": [
      "\n",
      "Model Report\n",
      "Accuracy : 0.9959\n",
      "AUC Score (Train): 0.870280\n"
     ]
    },
    {
     "ename": "TypeError",
     "evalue": "'NoneType' object is not callable",
     "output_type": "error",
     "traceback": [
      "\u001b[0;31m---------------------------------------------------------------------------\u001b[0m",
      "\u001b[0;31mTypeError\u001b[0m                                 Traceback (most recent call last)",
      "\u001b[0;32m<ipython-input-16-9878bfa8aa2a>\u001b[0m in \u001b[0;36m<module>\u001b[0;34m\u001b[0m\n\u001b[1;32m     13\u001b[0m  \u001b[0mscale_pos_weight\u001b[0m\u001b[0;34m=\u001b[0m\u001b[0;36m1\u001b[0m\u001b[0;34m,\u001b[0m\u001b[0;34m\u001b[0m\u001b[0;34m\u001b[0m\u001b[0m\n\u001b[1;32m     14\u001b[0m  seed=27)\n\u001b[0;32m---> 15\u001b[0;31m \u001b[0mmodelfit\u001b[0m\u001b[0;34m(\u001b[0m\u001b[0mxgb1\u001b[0m\u001b[0;34m,\u001b[0m \u001b[0mtrain\u001b[0m\u001b[0;34m,\u001b[0m \u001b[0mpredictors\u001b[0m\u001b[0;34m)\u001b[0m\u001b[0;34m\u001b[0m\u001b[0;34m\u001b[0m\u001b[0m\n\u001b[0m",
      "\u001b[0;32m<ipython-input-15-7db6dfe4f6b2>\u001b[0m in \u001b[0;36mmodelfit\u001b[0;34m(alg, dtrain, predictors, useTrainCV, cv_folds, early_stopping_rounds)\u001b[0m\n\u001b[1;32m     39\u001b[0m     \u001b[0mprint\u001b[0m \u001b[0;34m(\u001b[0m\u001b[0;34m\"AUC Score (Train): %f\"\u001b[0m \u001b[0;34m%\u001b[0m \u001b[0mmetrics\u001b[0m\u001b[0;34m.\u001b[0m\u001b[0mroc_auc_score\u001b[0m\u001b[0;34m(\u001b[0m\u001b[0mdtrain\u001b[0m\u001b[0;34m[\u001b[0m\u001b[0;34m'PD'\u001b[0m\u001b[0;34m]\u001b[0m\u001b[0;34m,\u001b[0m \u001b[0mdtrain_predprob\u001b[0m\u001b[0;34m)\u001b[0m\u001b[0;34m)\u001b[0m\u001b[0;34m\u001b[0m\u001b[0;34m\u001b[0m\u001b[0m\n\u001b[1;32m     40\u001b[0m \u001b[0;34m\u001b[0m\u001b[0m\n\u001b[0;32m---> 41\u001b[0;31m     \u001b[0mfeat_imp\u001b[0m \u001b[0;34m=\u001b[0m \u001b[0mpd\u001b[0m\u001b[0;34m.\u001b[0m\u001b[0mSeries\u001b[0m\u001b[0;34m(\u001b[0m\u001b[0malg\u001b[0m\u001b[0;34m.\u001b[0m\u001b[0mbooster\u001b[0m\u001b[0;34m(\u001b[0m\u001b[0;34m)\u001b[0m\u001b[0;34m.\u001b[0m\u001b[0mget_fscore\u001b[0m\u001b[0;34m(\u001b[0m\u001b[0;34m)\u001b[0m\u001b[0;34m)\u001b[0m\u001b[0;34m.\u001b[0m\u001b[0msort_values\u001b[0m\u001b[0;34m(\u001b[0m\u001b[0mascending\u001b[0m\u001b[0;34m=\u001b[0m\u001b[0;32mFalse\u001b[0m\u001b[0;34m)\u001b[0m\u001b[0;34m\u001b[0m\u001b[0;34m\u001b[0m\u001b[0m\n\u001b[0m\u001b[1;32m     42\u001b[0m     \u001b[0mfeat_imp\u001b[0m\u001b[0;34m.\u001b[0m\u001b[0mplot\u001b[0m\u001b[0;34m(\u001b[0m\u001b[0mkind\u001b[0m\u001b[0;34m=\u001b[0m\u001b[0;34m'bar'\u001b[0m\u001b[0;34m,\u001b[0m \u001b[0mtitle\u001b[0m\u001b[0;34m=\u001b[0m\u001b[0;34m'Feature Importances'\u001b[0m\u001b[0;34m)\u001b[0m\u001b[0;34m\u001b[0m\u001b[0;34m\u001b[0m\u001b[0m\n\u001b[1;32m     43\u001b[0m     \u001b[0mplt\u001b[0m\u001b[0;34m.\u001b[0m\u001b[0mylabel\u001b[0m\u001b[0;34m(\u001b[0m\u001b[0;34m'Feature Importance Score'\u001b[0m\u001b[0;34m)\u001b[0m\u001b[0;34m\u001b[0m\u001b[0;34m\u001b[0m\u001b[0m\n",
      "\u001b[0;31mTypeError\u001b[0m: 'NoneType' object is not callable"
     ]
    }
   ],
   "source": [
    "#Choose all predictors except target & IDcols\n",
    "predictors = [x for x in train.columns if x not in [target, IDcol]]\n",
    "xgb1 = XGBClassifier(\n",
    " learning_rate =0.1,\n",
    " n_estimators=1000,\n",
    " max_depth=5,\n",
    " min_child_weight=1,\n",
    " gamma=0,\n",
    " subsample=0.8,\n",
    " colsample_bytree=0.8,\n",
    " objective= 'binary:logistic',\n",
    " nthread=4,\n",
    " scale_pos_weight=1,\n",
    " seed=27)\n",
    "modelfit(xgb1, train, predictors)"
   ]
  },
  {
   "cell_type": "code",
   "execution_count": 18,
   "id": "2a7e1933-c93c-4c49-9e2e-084f9634d2fa",
   "metadata": {},
   "outputs": [
    {
     "name": "stdout",
     "output_type": "stream",
     "text": [
      "[18:09:01] WARNING: /opt/concourse/worker/volumes/live/7a2b9f41-3287-451b-6691-43e9a6c0910f/volume/xgboost-split_1619728204606/work/src/learner.cc:1061: Starting in XGBoost 1.3.0, the default evaluation metric used with the objective 'binary:logistic' was changed from 'error' to 'logloss'. Explicitly set eval_metric if you'd like to restore the old behavior.\n"
     ]
    },
    {
     "ename": "AttributeError",
     "evalue": "'GridSearchCV' object has no attribute 'grid_scores_'",
     "output_type": "error",
     "traceback": [
      "\u001b[0;31m---------------------------------------------------------------------------\u001b[0m",
      "\u001b[0;31mAttributeError\u001b[0m                            Traceback (most recent call last)",
      "\u001b[0;32m<ipython-input-18-c347f5cbabe9>\u001b[0m in \u001b[0;36m<module>\u001b[0;34m\u001b[0m\n\u001b[1;32m      8\u001b[0m  param_grid = param_test1, scoring='roc_auc',n_jobs=4, cv=5)\n\u001b[1;32m      9\u001b[0m \u001b[0mgsearch1\u001b[0m\u001b[0;34m.\u001b[0m\u001b[0mfit\u001b[0m\u001b[0;34m(\u001b[0m\u001b[0mtrain\u001b[0m\u001b[0;34m[\u001b[0m\u001b[0mpredictors\u001b[0m\u001b[0;34m]\u001b[0m\u001b[0;34m,\u001b[0m\u001b[0mtrain\u001b[0m\u001b[0;34m[\u001b[0m\u001b[0mtarget\u001b[0m\u001b[0;34m]\u001b[0m\u001b[0;34m)\u001b[0m\u001b[0;34m\u001b[0m\u001b[0;34m\u001b[0m\u001b[0m\n\u001b[0;32m---> 10\u001b[0;31m \u001b[0mgsearch1\u001b[0m\u001b[0;34m.\u001b[0m\u001b[0mgrid_scores_\u001b[0m\u001b[0;34m,\u001b[0m \u001b[0mgsearch1\u001b[0m\u001b[0;34m.\u001b[0m\u001b[0mbest_params_\u001b[0m\u001b[0;34m,\u001b[0m \u001b[0mgsearch1\u001b[0m\u001b[0;34m.\u001b[0m\u001b[0mbest_score_\u001b[0m\u001b[0;34m\u001b[0m\u001b[0;34m\u001b[0m\u001b[0m\n\u001b[0m",
      "\u001b[0;31mAttributeError\u001b[0m: 'GridSearchCV' object has no attribute 'grid_scores_'"
     ]
    }
   ],
   "source": [
    "param_test1 = {\n",
    " 'max_depth':range(3,10,2),\n",
    " 'min_child_weight':range(1,6,2)\n",
    "}\n",
    "gsearch1 = GridSearchCV(estimator = XGBClassifier( learning_rate =0.1, n_estimators=140, max_depth=5,\n",
    " min_child_weight=1, gamma=0, subsample=0.8, colsample_bytree=0.8,\n",
    " objective= 'binary:logistic', nthread=4, scale_pos_weight=1, seed=27), \n",
    " param_grid = param_test1, scoring='roc_auc',n_jobs=4, cv=5)\n",
    "gsearch1.fit(train[predictors],train[target])\n",
    "gsearch1.grid_scores_, gsearch1.best_params_, gsearch1.best_score_"
   ]
  },
  {
   "cell_type": "code",
   "execution_count": null,
   "id": "fc785452-d41d-44db-9cba-fbb73301852e",
   "metadata": {},
   "outputs": [],
   "source": [
    "param_test2 = {\n",
    " 'max_depth':[4,5,6],\n",
    " 'min_child_weight':[4,5,6]\n",
    "}\n",
    "gsearch2 = GridSearchCV(estimator = XGBClassifier( learning_rate=0.1, n_estimators=140, max_depth=5,\n",
    " min_child_weight=2, gamma=0, subsample=0.8, colsample_bytree=0.8,\n",
    " objective= 'binary:logistic', nthread=4, scale_pos_weight=1,seed=27), \n",
    " param_grid = param_test2, scoring='roc_auc',n_jobs=4,iid=False, cv=5)\n",
    "gsearch2.fit(train[predictors],train[target])\n",
    "gsearch2.grid_scores_, gsearch2.best_params_, gsearch2.best_score_"
   ]
  },
  {
   "cell_type": "code",
   "execution_count": null,
   "id": "03c5191f-b51e-4229-b0eb-3475eae95bb4",
   "metadata": {},
   "outputs": [],
   "source": [
    "'eid' in cols"
   ]
  },
  {
   "cell_type": "code",
   "execution_count": 5,
   "id": "acefb87e-8764-4f80-9561-192b347d462e",
   "metadata": {},
   "outputs": [],
   "source": [
    "X, y = df[cols].values, df['PD'].values"
   ]
  },
  {
   "cell_type": "code",
   "execution_count": null,
   "id": "c5c8be2e-a635-4201-9a39-6bb80ed29416",
   "metadata": {},
   "outputs": [],
   "source": [
    "from sklearn.model_selection import train_test_split\n",
    "X_train, X_test, y_train, y_test = train_test_split(X,y,test_size=.1, random_state=42)"
   ]
  },
  {
   "cell_type": "code",
   "execution_count": null,
   "id": "aa0e24bb-4b15-4abc-a38d-95d04d97e5c2",
   "metadata": {},
   "outputs": [],
   "source": [
    "import xgboost as xgb\n",
    "dtrain = xgb.DMatrix(X_train, label=y_train)\n",
    "dtest = xgb.DMatrix(X_test, label=y_test)"
   ]
  },
  {
   "cell_type": "code",
   "execution_count": null,
   "id": "42f44230-7d3f-41e0-83d1-0b0c98bcdad6",
   "metadata": {},
   "outputs": [],
   "source": [
    "#Choose all predictors except target & IDcols\n",
    "predictors = [x for x in train.columns if x not in [target, IDcol]]\n",
    "xgb1 = XGBClassifier(\n",
    " learning_rate =0.1,\n",
    " n_estimators=1000,\n",
    " max_depth=5,\n",
    " min_child_weight=1,\n",
    " gamma=0,\n",
    " subsample=0.8,\n",
    " colsample_bytree=0.8,\n",
    " objective= 'binary:logistic',\n",
    " nthread=4,\n",
    " scale_pos_weight=1,\n",
    " seed=27)\n",
    "modelfit(xgb1, train, predictors)"
   ]
  }
 ],
 "metadata": {
  "kernelspec": {
   "display_name": "Python 3 (ipykernel)",
   "language": "python",
   "name": "python3"
  },
  "language_info": {
   "codemirror_mode": {
    "name": "ipython",
    "version": 3
   },
   "file_extension": ".py",
   "mimetype": "text/x-python",
   "name": "python",
   "nbconvert_exporter": "python",
   "pygments_lexer": "ipython3",
   "version": "3.9.15"
  }
 },
 "nbformat": 4,
 "nbformat_minor": 5
}
